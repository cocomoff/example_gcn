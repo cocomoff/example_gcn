{
 "cells": [
  {
   "cell_type": "code",
   "execution_count": 1,
   "id": "bc0974b4-327b-40ee-a713-74d7fa9f3d62",
   "metadata": {},
   "outputs": [],
   "source": [
    "import numpy as np"
   ]
  },
  {
   "cell_type": "code",
   "execution_count": 2,
   "id": "980f465c-33ff-487a-8f82-e8af663661c5",
   "metadata": {},
   "outputs": [
    {
     "name": "stdout",
     "output_type": "stream",
     "text": [
      "[[0. 1. 1. 0. 0. 0.]\n",
      " [1. 0. 1. 0. 0. 0.]\n",
      " [1. 1. 0. 1. 1. 0.]\n",
      " [0. 0. 1. 0. 0. 0.]\n",
      " [0. 0. 1. 0. 0. 1.]\n",
      " [0. 0. 0. 0. 1. 0.]]\n"
     ]
    }
   ],
   "source": [
    "n = 6\n",
    "E = [(0, 1), (0, 2), (1, 2), (2, 3), (2, 4), (4, 5)]\n",
    "A = np.zeros((n, n))\n",
    "for (i, j) in E:\n",
    "    A[i, j] = A[j, i] = 1\n",
    "print(A)"
   ]
  },
  {
   "cell_type": "markdown",
   "id": "1f78b327-cb1a-41f2-af7a-e18305b7e5cc",
   "metadata": {},
   "source": [
    "# (fixed) 特徴と重み"
   ]
  },
  {
   "cell_type": "code",
   "execution_count": 3,
   "id": "39630707-2f1e-4341-a2e5-2b124487ff9d",
   "metadata": {},
   "outputs": [
    {
     "name": "stdout",
     "output_type": "stream",
     "text": [
      "[[0 0 0]\n",
      " [0 0 1]\n",
      " [0 1 0]\n",
      " [0 1 1]\n",
      " [1 0 0]\n",
      " [1 1 0]]\n",
      "[[1. 1.]\n",
      " [1. 1.]\n",
      " [1. 1.]]\n"
     ]
    }
   ],
   "source": [
    "X = np.array([\n",
    "    [0, 0, 0], # 0\n",
    "    [0, 0, 1], # 1\n",
    "    [0, 1, 0], # 2\n",
    "    [0, 1, 1], # 3\n",
    "    [1, 0, 0], # 4\n",
    "    [1, 1, 0], # 5\n",
    "])\n",
    "d = X.shape[1]\n",
    "out_dim = 2\n",
    "\n",
    "W = np.ones((d, out_dim))\n",
    "\n",
    "## another example\n",
    "# W = np.array([[0, 1], [2, 3], [4, 5]])\n",
    "\n",
    "print(X)\n",
    "print(W)"
   ]
  },
  {
   "cell_type": "markdown",
   "id": "55512d9b-924c-43ff-8403-8abaafe00513",
   "metadata": {},
   "source": [
    "# 式の計算"
   ]
  },
  {
   "cell_type": "code",
   "execution_count": 4,
   "id": "b09c60dc-b0f6-4971-a683-d9733a5ca9e8",
   "metadata": {},
   "outputs": [],
   "source": [
    "Ahat = A + np.eye(n)\n",
    "Dhat = lambda x: np.diag(np.power(np.sum(Ahat, axis=1), x))\n",
    "D = np.diag(np.power(np.sum(Ahat, axis=1), -1))"
   ]
  },
  {
   "cell_type": "code",
   "execution_count": 5,
   "id": "efb0b23d-11a5-4976-9a75-1dfdc78e0a8c",
   "metadata": {},
   "outputs": [
    {
     "name": "stdout",
     "output_type": "stream",
     "text": [
      "[[2. 2.]\n",
      " [2. 2.]\n",
      " [5. 5.]\n",
      " [3. 3.]\n",
      " [4. 4.]\n",
      " [3. 3.]]\n",
      "[[0.59153222 0.59153222]\n",
      " [0.59153222 0.59153222]\n",
      " [1.34885331 1.34885331]\n",
      " [1.31622777 1.31622777]\n",
      " [1.4080288  1.4080288 ]\n",
      " [1.40824829 1.40824829]]\n"
     ]
    }
   ],
   "source": [
    "mat0 = Ahat @ X @ W # none\n",
    "mat2 = (Dhat(-1/2)) @ Ahat @ (Dhat(-1/2)) @ X @ W # both\n",
    "print(mat0)\n",
    "print(mat2)"
   ]
  },
  {
   "cell_type": "code",
   "execution_count": null,
   "id": "55cb79b5-8e68-4221-85ee-3b4ad2a37803",
   "metadata": {},
   "outputs": [],
   "source": []
  }
 ],
 "metadata": {
  "kernelspec": {
   "display_name": "Python 3 (ipykernel)",
   "language": "python",
   "name": "python3"
  },
  "language_info": {
   "codemirror_mode": {
    "name": "ipython",
    "version": 3
   },
   "file_extension": ".py",
   "mimetype": "text/x-python",
   "name": "python",
   "nbconvert_exporter": "python",
   "pygments_lexer": "ipython3",
   "version": "3.9.1"
  }
 },
 "nbformat": 4,
 "nbformat_minor": 5
}
