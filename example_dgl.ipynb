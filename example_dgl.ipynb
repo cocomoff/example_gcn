{
 "cells": [
  {
   "cell_type": "code",
   "execution_count": 1,
   "id": "bc0974b4-327b-40ee-a713-74d7fa9f3d62",
   "metadata": {},
   "outputs": [
    {
     "name": "stderr",
     "output_type": "stream",
     "text": [
      "Using backend: pytorch\n"
     ]
    }
   ],
   "source": [
    "import numpy as np\n",
    "import networkx as nx\n",
    "import dgl\n",
    "from dgl.nn import GraphConv\n",
    "import torch\n",
    "import torch.nn as nn"
   ]
  },
  {
   "cell_type": "code",
   "execution_count": 2,
   "id": "980f465c-33ff-487a-8f82-e8af663661c5",
   "metadata": {},
   "outputs": [
    {
     "name": "stdout",
     "output_type": "stream",
     "text": [
      "Graph(num_nodes=6, num_edges=18,\n",
      "      ndata_schemes={}\n",
      "      edata_schemes={})\n"
     ]
    }
   ],
   "source": [
    "n = 6\n",
    "nxg = nx.Graph()\n",
    "nxg.add_nodes_from(range(n))\n",
    "E = [(0, 1), (0, 2), (1, 2), (2, 3), (2, 4), (4, 5)]\n",
    "for (u, v) in E:\n",
    "    nxg.add_edge(u, v)\n",
    "    \n",
    "g = dgl.from_networkx(nxg)\n",
    "g = dgl.add_self_loop(g)\n",
    "print(g)"
   ]
  },
  {
   "cell_type": "markdown",
   "id": "1f78b327-cb1a-41f2-af7a-e18305b7e5cc",
   "metadata": {},
   "source": [
    "# (fixed) 特徴と重み"
   ]
  },
  {
   "cell_type": "code",
   "execution_count": 3,
   "id": "39630707-2f1e-4341-a2e5-2b124487ff9d",
   "metadata": {},
   "outputs": [],
   "source": [
    "X = torch.tensor([[0, 0, 0], [0, 0, 1], [0, 1, 0], \n",
    "                  [0, 1, 1], [1, 0, 0], [1, 1, 0]], dtype=torch.float32)\n",
    "output_dim = 2"
   ]
  },
  {
   "cell_type": "markdown",
   "id": "6fc42984-afbc-47e5-a6df-f9e9643fc64e",
   "metadata": {},
   "source": [
    "# GCNLayerの作成"
   ]
  },
  {
   "cell_type": "code",
   "execution_count": 4,
   "id": "7e9fd1c3-874f-4aac-b713-b0a91d0f5c10",
   "metadata": {},
   "outputs": [
    {
     "name": "stdout",
     "output_type": "stream",
     "text": [
      "GraphConv(in=3, out=2, normalization=both, activation=None)\n",
      "Parameter containing:\n",
      "tensor([[-0.4256,  0.6477],\n",
      "        [ 1.0687,  0.9229],\n",
      "        [ 0.1252, -0.8146]], requires_grad=True)\n",
      "tensor([[ 0.3177, -0.0333],\n",
      "        [ 0.3177, -0.0333],\n",
      "        [ 0.5137,  0.1757],\n",
      "        [ 0.9349,  0.3460],\n",
      "        [ 0.3966,  1.0954],\n",
      "        [ 0.1478,  1.0497]], grad_fn=<MulBackward0>)\n"
     ]
    }
   ],
   "source": [
    "gcn = GraphConv(X.shape[1], output_dim, bias=False)\n",
    "print(gcn)\n",
    "print(gcn.weight)\n",
    "print(gcn(g, X))"
   ]
  },
  {
   "cell_type": "code",
   "execution_count": 5,
   "id": "64aaa0e2-d65e-48aa-9344-03df024d51e4",
   "metadata": {},
   "outputs": [
    {
     "name": "stdout",
     "output_type": "stream",
     "text": [
      "[Parameter containing:\n",
      "tensor([[-0.4256,  0.6477],\n",
      "        [ 1.0687,  0.9229],\n",
      "        [ 0.1252, -0.8146]], requires_grad=True)]\n",
      "Parameter containing:\n",
      "tensor([[1., 1.],\n",
      "        [1., 1.],\n",
      "        [1., 1.]], requires_grad=True)\n"
     ]
    }
   ],
   "source": [
    "org_weight = gcn.state_dict()[\"weight\"]\n",
    "print(list(gcn.parameters()))\n",
    "\n",
    "## another example\n",
    "# Wparam = torch.nn.parameter.Parameter(\n",
    "#     torch.tensor([[0., 1.], [2., 3.], [4., 5.]], dtype=torch.float32, requires_grad=True)\n",
    "# )\n",
    "\n",
    "Wparam = torch.nn.parameter.Parameter(torch.ones_like(org_weight))\n",
    "gcn.weight = Wparam\n",
    "print(gcn.weight)"
   ]
  },
  {
   "cell_type": "code",
   "execution_count": 6,
   "id": "9bd10115-f7eb-434f-8758-7713c503b5e9",
   "metadata": {},
   "outputs": [
    {
     "name": "stdout",
     "output_type": "stream",
     "text": [
      "tensor([[0., 0., 0.],\n",
      "        [0., 0., 1.],\n",
      "        [0., 1., 0.],\n",
      "        [0., 1., 1.],\n",
      "        [1., 0., 0.],\n",
      "        [1., 1., 0.]])\n",
      "Parameter containing:\n",
      "tensor([[1., 1.],\n",
      "        [1., 1.],\n",
      "        [1., 1.]], requires_grad=True)\n",
      "tensor([[0.5915, 0.5915],\n",
      "        [0.5915, 0.5915],\n",
      "        [1.3489, 1.3489],\n",
      "        [1.3162, 1.3162],\n",
      "        [1.4080, 1.4080],\n",
      "        [1.4082, 1.4082]], grad_fn=<MulBackward0>)\n"
     ]
    }
   ],
   "source": [
    "print(X)\n",
    "print(gcn.weight)\n",
    "print(gcn(g, X))"
   ]
  },
  {
   "cell_type": "code",
   "execution_count": 7,
   "id": "6ec1e30e-a691-4ed3-ae24-49fea518bbcf",
   "metadata": {},
   "outputs": [
    {
     "ename": "NameError",
     "evalue": "name 'Ahat' is not defined",
     "output_type": "error",
     "traceback": [
      "\u001b[0;31m---------------------------------------------------------------------------\u001b[0m",
      "\u001b[0;31mNameError\u001b[0m                                 Traceback (most recent call last)",
      "\u001b[0;32m/tmp/ipykernel_3071/347363078.py\u001b[0m in \u001b[0;36m<module>\u001b[0;34m\u001b[0m\n\u001b[0;32m----> 1\u001b[0;31m \u001b[0mDhat\u001b[0m \u001b[0;34m=\u001b[0m \u001b[0mnp\u001b[0m\u001b[0;34m.\u001b[0m\u001b[0mdiag\u001b[0m\u001b[0;34m(\u001b[0m\u001b[0mnp\u001b[0m\u001b[0;34m.\u001b[0m\u001b[0mpower\u001b[0m\u001b[0;34m(\u001b[0m\u001b[0mnp\u001b[0m\u001b[0;34m.\u001b[0m\u001b[0msum\u001b[0m\u001b[0;34m(\u001b[0m\u001b[0mAhat\u001b[0m\u001b[0;34m,\u001b[0m \u001b[0maxis\u001b[0m\u001b[0;34m=\u001b[0m\u001b[0;36m1\u001b[0m\u001b[0;34m)\u001b[0m\u001b[0;34m,\u001b[0m \u001b[0;34m-\u001b[0m\u001b[0;36m1\u001b[0m\u001b[0;34m/\u001b[0m\u001b[0;36m2\u001b[0m\u001b[0;34m)\u001b[0m\u001b[0;34m)\u001b[0m\u001b[0;34m\u001b[0m\u001b[0;34m\u001b[0m\u001b[0m\n\u001b[0m\u001b[1;32m      2\u001b[0m \u001b[0mprint\u001b[0m\u001b[0;34m(\u001b[0m\u001b[0mDhat\u001b[0m\u001b[0;34m)\u001b[0m\u001b[0;34m\u001b[0m\u001b[0;34m\u001b[0m\u001b[0m\n",
      "\u001b[0;31mNameError\u001b[0m: name 'Ahat' is not defined"
     ]
    }
   ],
   "source": [
    "Dhat = np.diag(np.power(np.sum(Ahat, axis=1), -1/2))\n",
    "print(Dhat)"
   ]
  },
  {
   "cell_type": "code",
   "execution_count": null,
   "id": "efb0b23d-11a5-4976-9a75-1dfdc78e0a8c",
   "metadata": {},
   "outputs": [],
   "source": [
    "mat = Dhat @ Ahat @ Dhat @ X @ W\n",
    "print(mat)"
   ]
  },
  {
   "cell_type": "code",
   "execution_count": null,
   "id": "ae08117e-4323-4d65-9a14-43ce6619118d",
   "metadata": {},
   "outputs": [],
   "source": []
  },
  {
   "cell_type": "code",
   "execution_count": 8,
   "id": "89047130-34cd-47a8-bc71-520ac589e743",
   "metadata": {},
   "outputs": [],
   "source": [
    "gcn0 = GraphConv(X.shape[1], output_dim, bias=False, norm=\"none\")\n",
    "gcn1 = GraphConv(X.shape[1], output_dim, bias=False, norm=\"right\")\n",
    "gcn2 = GraphConv(X.shape[1], output_dim, bias=False, norm=\"both\")\n",
    "gcn0.weight = Wparam\n",
    "gcn1.weight = Wparam\n",
    "gcn2.weight = Wparam"
   ]
  },
  {
   "cell_type": "code",
   "execution_count": 9,
   "id": "d6d64c7a-6684-4bc2-a9a5-d85cef332782",
   "metadata": {},
   "outputs": [
    {
     "name": "stdout",
     "output_type": "stream",
     "text": [
      "tensor([[2., 2.],\n",
      "        [2., 2.],\n",
      "        [5., 5.],\n",
      "        [3., 3.],\n",
      "        [4., 4.],\n",
      "        [3., 3.]], grad_fn=<GSpMMBackward>)\n",
      "tensor([[0.6667, 0.6667],\n",
      "        [0.6667, 0.6667],\n",
      "        [1.0000, 1.0000],\n",
      "        [1.5000, 1.5000],\n",
      "        [1.3333, 1.3333],\n",
      "        [1.5000, 1.5000]], grad_fn=<MulBackward0>)\n",
      "tensor([[0.5915, 0.5915],\n",
      "        [0.5915, 0.5915],\n",
      "        [1.3489, 1.3489],\n",
      "        [1.3162, 1.3162],\n",
      "        [1.4080, 1.4080],\n",
      "        [1.4082, 1.4082]], grad_fn=<MulBackward0>)\n"
     ]
    }
   ],
   "source": [
    "print(gcn0(g, X))\n",
    "print(gcn1(g, X))\n",
    "print(gcn2(g, X))"
   ]
  },
  {
   "cell_type": "code",
   "execution_count": null,
   "id": "3b5cecd9-d539-44ad-8715-68382453621b",
   "metadata": {},
   "outputs": [],
   "source": []
  }
 ],
 "metadata": {
  "kernelspec": {
   "display_name": "Python 3 (ipykernel)",
   "language": "python",
   "name": "python3"
  },
  "language_info": {
   "codemirror_mode": {
    "name": "ipython",
    "version": 3
   },
   "file_extension": ".py",
   "mimetype": "text/x-python",
   "name": "python",
   "nbconvert_exporter": "python",
   "pygments_lexer": "ipython3",
   "version": "3.9.1"
  }
 },
 "nbformat": 4,
 "nbformat_minor": 5
}
